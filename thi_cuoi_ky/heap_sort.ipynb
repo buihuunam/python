{
 "cells": [
  {
   "cell_type": "code",
   "execution_count": 10,
   "metadata": {},
   "outputs": [],
   "source": [
    "def heapify(arr, n, i):\n",
    "    \"\"\"Biến arr thành heap tại node i (định dạng max-heap).\"\"\"\n",
    "    largest = i  # Giả sử node i là lớn nhất\n",
    "    left = 2 * i + 1  # Con trái\n",
    "    right = 2 * i + 2  # Con phải\n",
    "\n",
    "    # So sánh với con trái\n",
    "    if left < n and arr[left][1] > arr[largest][1]:\n",
    "        largest = left\n",
    "\n",
    "    # So sánh với con phải\n",
    "    if right < n and arr[right][1] > arr[largest][1]:\n",
    "        largest = right\n",
    "\n",
    "    # Nếu node i không phải lớn nhất, hoán đổi và tiếp tục heapify\n",
    "    if largest != i:\n",
    "        arr[i], arr[largest] = arr[largest], arr[i]\n",
    "        heapify(arr, n, largest)\n",
    "\n",
    "def heap_sort(arr):\n",
    "    \"\"\"Sắp xếp danh sách bằng Heap Sort.\"\"\"\n",
    "    n = len(arr)\n",
    "\n",
    "    # Xây dựng max-heap (biến danh sách thành cây nhị phân hoàn chỉnh)\n",
    "    for i in range(n // 2 - 1, -1, -1):\n",
    "        heapify(arr, n, i)\n",
    "\n",
    "    # Trích xuất phần tử lớn nhất từ heap và đặt vào cuối danh sách\n",
    "    for i in range(n - 1, 0, -1):\n",
    "        arr[i], arr[0] = arr[0], arr[i]  # Đưa max xuống cuối\n",
    "        heapify(arr, i, 0)  # Xây dựng lại heap với phần còn lại\n"
   ]
  },
  {
   "cell_type": "code",
   "execution_count": 11,
   "metadata": {},
   "outputs": [
    {
     "name": "stdout",
     "output_type": "stream",
     "text": [
      "    Student_ID  Average_Score\n",
      "0        HS073           3.51\n",
      "1        HS638           3.51\n",
      "2        HS772           3.52\n",
      "3        HS783           3.52\n",
      "4        HS704           3.53\n",
      "..         ...            ...\n",
      "995      HS735           9.96\n",
      "996      HS064           9.97\n",
      "997      HS870           9.98\n",
      "998      HS733           9.98\n",
      "999      HS018           9.99\n",
      "\n",
      "[1000 rows x 2 columns]\n"
     ]
    }
   ],
   "source": [
    "import pandas as pd\n",
    "\n",
    "# Đọc dữ liệu từ CSV\n",
    "score_file_path = \"F:/bai_tap_ctdl_gt/python/thi_cuoi_ky/students_1000.csv\"\n",
    "df_scores = pd.read_csv(score_file_path)\n",
    "\n",
    "# Chuyển DataFrame thành danh sách tuple (Student_ID, Average_Score)\n",
    "student_list = list(df_scores.itertuples(index=False, name=None))\n",
    "\n",
    "# Sắp xếp bằng Heap Sort\n",
    "heap_sort(student_list)\n",
    "\n",
    "# Chuyển lại thành DataFrame và in kết quả\n",
    "df_sorted = pd.DataFrame(student_list, columns=[\"Student_ID\", \"Average_Score\"])\n",
    "print(df_sorted)\n"
   ]
  },
  {
   "cell_type": "code",
   "execution_count": 12,
   "metadata": {},
   "outputs": [
    {
     "name": "stdout",
     "output_type": "stream",
     "text": [
      "Thời gian chạy: 0.005352600 giây\n"
     ]
    }
   ],
   "source": [
    "import time\n",
    "\n",
    "start_time = time.perf_counter()\n",
    "heap_sort(student_list)\n",
    "end_time = time.perf_counter()\n",
    "\n",
    "print(f\"Thời gian chạy: {end_time - start_time:.9f} giây\")\n"
   ]
  }
 ],
 "metadata": {
  "kernelspec": {
   "display_name": "base",
   "language": "python",
   "name": "python3"
  },
  "language_info": {
   "codemirror_mode": {
    "name": "ipython",
    "version": 3
   },
   "file_extension": ".py",
   "mimetype": "text/x-python",
   "name": "python",
   "nbconvert_exporter": "python",
   "pygments_lexer": "ipython3",
   "version": "3.12.7"
  }
 },
 "nbformat": 4,
 "nbformat_minor": 2
}
