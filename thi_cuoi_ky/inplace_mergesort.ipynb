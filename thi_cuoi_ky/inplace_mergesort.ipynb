{
 "cells": [
  {
   "cell_type": "code",
   "execution_count": 14,
   "metadata": {},
   "outputs": [],
   "source": [
    "def merge_in_place(arr, left, mid, right):\n",
    "    left_copy = arr[left:mid + 1]\n",
    "    right_copy = arr[mid + 1:right + 1]\n",
    "\n",
    "    i = j = 0\n",
    "    k = left\n",
    "\n",
    "    while i < len(left_copy) and j < len(right_copy):\n",
    "        if left_copy[i][1] <= right_copy[j][1]:\n",
    "            arr[k] = left_copy[i]\n",
    "            i += 1\n",
    "        else:\n",
    "            arr[k] = right_copy[j]\n",
    "            j += 1\n",
    "        k += 1\n",
    "\n",
    "    while i < len(left_copy):\n",
    "        arr[k] = left_copy[i]\n",
    "        i += 1\n",
    "        k += 1\n",
    "\n",
    "    while j < len(right_copy):\n",
    "        arr[k] = right_copy[j]\n",
    "        j += 1\n",
    "        k += 1\n",
    "\n",
    "def merge_sort_in_place(arr, left, right):\n",
    "    if left < right:\n",
    "        mid = (left + right) // 2\n",
    "        merge_sort_in_place(arr, left, mid)\n",
    "        merge_sort_in_place(arr, mid + 1, right)\n",
    "        merge_in_place(arr, left, mid, right)\n"
   ]
  },
  {
   "cell_type": "code",
   "execution_count": 15,
   "metadata": {},
   "outputs": [
    {
     "name": "stdout",
     "output_type": "stream",
     "text": [
      "    Student_ID  Average_Score\n",
      "0        HS073           3.51\n",
      "1        HS638           3.51\n",
      "2        HS772           3.52\n",
      "3        HS783           3.52\n",
      "4        HS704           3.53\n",
      "..         ...            ...\n",
      "995      HS865           9.96\n",
      "996      HS064           9.97\n",
      "997      HS733           9.98\n",
      "998      HS870           9.98\n",
      "999      HS018           9.99\n",
      "\n",
      "[1000 rows x 2 columns]\n"
     ]
    }
   ],
   "source": [
    "import pandas as pd\n",
    "\n",
    "# Đọc dữ liệu từ CSV\n",
    "score_file_path = \"F:/bai_tap_ctdl_gt/python/thi_cuoi_ky/students_1000.csv\"\n",
    "df_scores = pd.read_csv(score_file_path)\n",
    "\n",
    "# Chuyển DataFrame thành danh sách tuple (Student_ID, Average_Score)\n",
    "student_list = list(df_scores.itertuples(index=False, name=None))\n",
    "\n",
    "# Sắp xếp bằng Quick Sort\n",
    "merge_sort_in_place(student_list, 0, len(student_list) - 1)\n",
    "\n",
    "# Chuyển lại thành DataFrame và in kết quả\n",
    "df_sorted = pd.DataFrame(student_list, columns=[\"Student_ID\", \"Average_Score\"])\n",
    "print(df_sorted)\n"
   ]
  },
  {
   "cell_type": "code",
   "execution_count": 16,
   "metadata": {},
   "outputs": [
    {
     "name": "stdout",
     "output_type": "stream",
     "text": [
      "Thời gian chạy: 0.004411100 giây\n"
     ]
    }
   ],
   "source": [
    "import time\n",
    "\n",
    "start_time = time.perf_counter()\n",
    "merge_sort_in_place(student_list, 0, len(student_list) - 1)\n",
    "end_time = time.perf_counter()\n",
    "\n",
    "print(f\"Thời gian chạy: {end_time - start_time:.9f} giây\")\n"
   ]
  }
 ],
 "metadata": {
  "kernelspec": {
   "display_name": "base",
   "language": "python",
   "name": "python3"
  },
  "language_info": {
   "codemirror_mode": {
    "name": "ipython",
    "version": 3
   },
   "file_extension": ".py",
   "mimetype": "text/x-python",
   "name": "python",
   "nbconvert_exporter": "python",
   "pygments_lexer": "ipython3",
   "version": "3.12.7"
  }
 },
 "nbformat": 4,
 "nbformat_minor": 2
}
