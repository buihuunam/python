{
 "cells": [
  {
   "cell_type": "code",
   "execution_count": 10,
   "metadata": {},
   "outputs": [],
   "source": [
    "def quick_sort(arr, low, high):\n",
    "    if low < high:\n",
    "        pi = partition(arr, low, high)\n",
    "        quick_sort(arr, low, pi - 1)  # Sắp xếp bên trái\n",
    "        quick_sort(arr, pi + 1, high)  # Sắp xếp bên phải\n",
    "\n",
    "def partition(arr, low, high):\n",
    "    pivot = arr[high][1]  # Chọn phần tử cuối cùng làm chốt\n",
    "    i = low - 1  # Chỉ mục của phần tử nhỏ hơn pivot\n",
    "\n",
    "    for j in range(low, high):\n",
    "        if arr[j][1] < pivot:\n",
    "            i += 1\n",
    "            arr[i], arr[j] = arr[j], arr[i]  # Hoán đổi nếu phần tử nhỏ hơn pivot\n",
    "\n",
    "    arr[i + 1], arr[high] = arr[high], arr[i + 1]  # Đưa pivot về đúng vị trí\n",
    "    return i + 1  # Trả về chỉ mục của pivot\n"
   ]
  },
  {
   "cell_type": "code",
   "execution_count": 11,
   "metadata": {},
   "outputs": [
    {
     "name": "stdout",
     "output_type": "stream",
     "text": [
      "    Student_ID  Average_Score\n",
      "0        HS638           3.51\n",
      "1        HS073           3.51\n",
      "2        HS783           3.52\n",
      "3        HS772           3.52\n",
      "4        HS704           3.53\n",
      "..         ...            ...\n",
      "995      HS735           9.96\n",
      "996      HS064           9.97\n",
      "997      HS870           9.98\n",
      "998      HS733           9.98\n",
      "999      HS018           9.99\n",
      "\n",
      "[1000 rows x 2 columns]\n"
     ]
    }
   ],
   "source": [
    "import pandas as pd\n",
    "\n",
    "# Đọc dữ liệu từ CSV\n",
    "score_file_path = \"F:/bai_tap_ctdl_gt/python/thi_cuoi_ky/students_1000.csv\"\n",
    "df_scores = pd.read_csv(score_file_path)\n",
    "\n",
    "# Chuyển DataFrame thành danh sách tuple (Student_ID, Average_Score)\n",
    "student_list = list(df_scores.itertuples(index=False, name=None))\n",
    "\n",
    "# Sắp xếp bằng Quick Sort\n",
    "quick_sort(student_list, 0, len(student_list) - 1)\n",
    "\n",
    "# Chuyển lại thành DataFrame và in kết quả\n",
    "df_sorted = pd.DataFrame(student_list, columns=[\"Student_ID\", \"Average_Score\"])\n",
    "print(df_sorted)\n"
   ]
  },
  {
   "cell_type": "code",
   "execution_count": 12,
   "metadata": {},
   "outputs": [
    {
     "name": "stdout",
     "output_type": "stream",
     "text": [
      "Thời gian chạy: 0.038426500 giây\n"
     ]
    }
   ],
   "source": [
    "import time\n",
    "\n",
    "start_time = time.perf_counter()\n",
    "quick_sort(student_list, 0, len(student_list) - 1)\n",
    "end_time = time.perf_counter()\n",
    "\n",
    "print(f\"Thời gian chạy: {end_time - start_time:.9f} giây\")\n"
   ]
  }
 ],
 "metadata": {
  "kernelspec": {
   "display_name": "base",
   "language": "python",
   "name": "python3"
  },
  "language_info": {
   "codemirror_mode": {
    "name": "ipython",
    "version": 3
   },
   "file_extension": ".py",
   "mimetype": "text/x-python",
   "name": "python",
   "nbconvert_exporter": "python",
   "pygments_lexer": "ipython3",
   "version": "3.12.7"
  }
 },
 "nbformat": 4,
 "nbformat_minor": 2
}
